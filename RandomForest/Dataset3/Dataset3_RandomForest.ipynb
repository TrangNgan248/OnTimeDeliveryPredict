{
  "cells": [
    {
      "cell_type": "markdown",
      "metadata": {
        "id": "Np3OYEjo-fa2"
      },
      "source": [
        "# Thực nghiệm thuật toán Random Forest trên tập dataset 3"
      ]
    },
    {
      "attachments": {},
      "cell_type": "markdown",
      "metadata": {},
      "source": [
        "<h2> Table of content </h2>\n",
        "<div class =\"alert alert-block alert-info\" style=\"margin-top: 20px\">\n",
        "  <ol>\n",
        "    <li><a href = \"#1\"> Tạo tập dữ liệu </a></li>\n",
        "    <li><a href = \"#2\"> Thử nghiệm mô hình mặc định </a></li>\n",
        "    <li><a href = \"#tuning\"> Tinh chỉnh siêu tham số  </a></li>\n",
        "  </ol>\n",
        "</div>"
      ]
    },
    {
      "cell_type": "code",
      "execution_count": 1,
      "metadata": {
        "id": "_Dx39ktvAHah"
      },
      "outputs": [],
      "source": [
        "import pandas as pd\n",
        "\n",
        "from sklearn.metrics import classification_report\n",
        "from sklearn.ensemble import RandomForestClassifier"
      ]
    },
    {
      "cell_type": "code",
      "execution_count": 2,
      "metadata": {
        "colab": {
          "base_uri": "https://localhost:8080/",
          "height": 288
        },
        "id": "emJQ0S2FAOsI",
        "outputId": "f0cc4680-5cbc-4a4a-f0aa-b9a0bbaa7044"
      },
      "outputs": [
        {
          "data": {
            "text/html": [
              "<div>\n",
              "<style scoped>\n",
              "    .dataframe tbody tr th:only-of-type {\n",
              "        vertical-align: middle;\n",
              "    }\n",
              "\n",
              "    .dataframe tbody tr th {\n",
              "        vertical-align: top;\n",
              "    }\n",
              "\n",
              "    .dataframe thead th {\n",
              "        text-align: right;\n",
              "    }\n",
              "</style>\n",
              "<table border=\"1\" class=\"dataframe\">\n",
              "  <thead>\n",
              "    <tr style=\"text-align: right;\">\n",
              "      <th></th>\n",
              "      <th>order_time</th>\n",
              "      <th>is_acquisition</th>\n",
              "      <th>is_successful</th>\n",
              "      <th>delivery_arrangement</th>\n",
              "      <th>basket_amount_lc</th>\n",
              "      <th>delivery_fee_amount_lc</th>\n",
              "      <th>Payment Method</th>\n",
              "      <th>platform</th>\n",
              "      <th>vertical_class</th>\n",
              "      <th>vertical</th>\n",
              "      <th>is_affordable_freedelivery</th>\n",
              "      <th>is_affordable_item</th>\n",
              "      <th>is_affordable_gem</th>\n",
              "      <th>is_affordable_restaurant</th>\n",
              "      <th>is_affordable_voucher</th>\n",
              "      <th>is_affordable</th>\n",
              "      <th>City</th>\n",
              "      <th>ontime</th>\n",
              "    </tr>\n",
              "  </thead>\n",
              "  <tbody>\n",
              "    <tr>\n",
              "      <th>0</th>\n",
              "      <td>90</td>\n",
              "      <td>0</td>\n",
              "      <td>0</td>\n",
              "      <td>0</td>\n",
              "      <td>155.00</td>\n",
              "      <td>14.99</td>\n",
              "      <td>0</td>\n",
              "      <td>2</td>\n",
              "      <td>0</td>\n",
              "      <td>3</td>\n",
              "      <td>0</td>\n",
              "      <td>0</td>\n",
              "      <td>0</td>\n",
              "      <td>0</td>\n",
              "      <td>0</td>\n",
              "      <td>0</td>\n",
              "      <td>2</td>\n",
              "      <td>0</td>\n",
              "    </tr>\n",
              "    <tr>\n",
              "      <th>1</th>\n",
              "      <td>46</td>\n",
              "      <td>0</td>\n",
              "      <td>1</td>\n",
              "      <td>1</td>\n",
              "      <td>228.00</td>\n",
              "      <td>0.00</td>\n",
              "      <td>2</td>\n",
              "      <td>0</td>\n",
              "      <td>0</td>\n",
              "      <td>3</td>\n",
              "      <td>1</td>\n",
              "      <td>0</td>\n",
              "      <td>0</td>\n",
              "      <td>0</td>\n",
              "      <td>0</td>\n",
              "      <td>1</td>\n",
              "      <td>2</td>\n",
              "      <td>0</td>\n",
              "    </tr>\n",
              "    <tr>\n",
              "      <th>2</th>\n",
              "      <td>30</td>\n",
              "      <td>0</td>\n",
              "      <td>0</td>\n",
              "      <td>0</td>\n",
              "      <td>15.00</td>\n",
              "      <td>9.99</td>\n",
              "      <td>0</td>\n",
              "      <td>0</td>\n",
              "      <td>0</td>\n",
              "      <td>3</td>\n",
              "      <td>0</td>\n",
              "      <td>0</td>\n",
              "      <td>0</td>\n",
              "      <td>0</td>\n",
              "      <td>0</td>\n",
              "      <td>0</td>\n",
              "      <td>2</td>\n",
              "      <td>0</td>\n",
              "    </tr>\n",
              "    <tr>\n",
              "      <th>3</th>\n",
              "      <td>118</td>\n",
              "      <td>0</td>\n",
              "      <td>1</td>\n",
              "      <td>0</td>\n",
              "      <td>30.00</td>\n",
              "      <td>22.49</td>\n",
              "      <td>1</td>\n",
              "      <td>2</td>\n",
              "      <td>0</td>\n",
              "      <td>3</td>\n",
              "      <td>0</td>\n",
              "      <td>0</td>\n",
              "      <td>0</td>\n",
              "      <td>0</td>\n",
              "      <td>0</td>\n",
              "      <td>0</td>\n",
              "      <td>2</td>\n",
              "      <td>0</td>\n",
              "    </tr>\n",
              "    <tr>\n",
              "      <th>4</th>\n",
              "      <td>27</td>\n",
              "      <td>0</td>\n",
              "      <td>1</td>\n",
              "      <td>0</td>\n",
              "      <td>44.35</td>\n",
              "      <td>0.00</td>\n",
              "      <td>1</td>\n",
              "      <td>2</td>\n",
              "      <td>1</td>\n",
              "      <td>4</td>\n",
              "      <td>1</td>\n",
              "      <td>0</td>\n",
              "      <td>0</td>\n",
              "      <td>0</td>\n",
              "      <td>0</td>\n",
              "      <td>1</td>\n",
              "      <td>4</td>\n",
              "      <td>0</td>\n",
              "    </tr>\n",
              "  </tbody>\n",
              "</table>\n",
              "</div>"
            ],
            "text/plain": [
              "   order_time  is_acquisition  is_successful  delivery_arrangement  \\\n",
              "0          90               0              0                     0   \n",
              "1          46               0              1                     1   \n",
              "2          30               0              0                     0   \n",
              "3         118               0              1                     0   \n",
              "4          27               0              1                     0   \n",
              "\n",
              "   basket_amount_lc  delivery_fee_amount_lc  Payment Method  platform  \\\n",
              "0            155.00                   14.99               0         2   \n",
              "1            228.00                    0.00               2         0   \n",
              "2             15.00                    9.99               0         0   \n",
              "3             30.00                   22.49               1         2   \n",
              "4             44.35                    0.00               1         2   \n",
              "\n",
              "   vertical_class  vertical  is_affordable_freedelivery  is_affordable_item  \\\n",
              "0               0         3                           0                   0   \n",
              "1               0         3                           1                   0   \n",
              "2               0         3                           0                   0   \n",
              "3               0         3                           0                   0   \n",
              "4               1         4                           1                   0   \n",
              "\n",
              "   is_affordable_gem  is_affordable_restaurant  is_affordable_voucher  \\\n",
              "0                  0                         0                      0   \n",
              "1                  0                         0                      0   \n",
              "2                  0                         0                      0   \n",
              "3                  0                         0                      0   \n",
              "4                  0                         0                      0   \n",
              "\n",
              "   is_affordable  City  ontime  \n",
              "0              0     2       0  \n",
              "1              1     2       0  \n",
              "2              0     2       0  \n",
              "3              0     2       0  \n",
              "4              1     4       0  "
            ]
          },
          "execution_count": 2,
          "metadata": {},
          "output_type": "execute_result"
        }
      ],
      "source": [
        "data_train = pd.read_csv(\"Data3_train.csv\")\n",
        "data_test = pd.read_csv(\"Data3_test.csv\")\n",
        "\n",
        "data_train = data_train.drop(data_train.columns[0], axis = 1)\n",
        "data_test = data_test.drop(data_test.columns[0], axis = 1)\n",
        "\n",
        "data_train.head()"
      ]
    },
    {
      "cell_type": "markdown",
      "metadata": {
        "id": "vXWNZa43DorW"
      },
      "source": [
        "Dữ liệu cần dự đoán ở đây là cột ontime"
      ]
    },
    {
      "cell_type": "code",
      "execution_count": 3,
      "metadata": {
        "id": "oRNftJrtBFYf"
      },
      "outputs": [],
      "source": [
        "X_train = data_train.iloc[:, data_train.columns != \"ontime\"].values\n",
        "y_train = data_train[\"ontime\"].values\n",
        "\n",
        "X_test = data_test.iloc[:, data_test.columns != \"ontime\"].values\n",
        "y_test = data_test[\"ontime\"].values"
      ]
    },
    {
      "attachments": {},
      "cell_type": "markdown",
      "metadata": {},
      "source": [
        "<h3 id = \"2\"> 2. Thử nghiệm mô hình mặc định </h3>"
      ]
    },
    {
      "cell_type": "code",
      "execution_count": 5,
      "metadata": {
        "colab": {
          "base_uri": "https://localhost:8080/",
          "height": 75
        },
        "id": "Ul_SHBePCUVI",
        "outputId": "fcf9ecdf-9636-4dea-c6ba-eded116374da"
      },
      "outputs": [
        {
          "name": "stdout",
          "output_type": "stream",
          "text": [
            "              precision    recall  f1-score   support\n",
            "\n",
            "           0       0.82      0.72      0.77     13268\n",
            "           1       0.70      0.81      0.75     10709\n",
            "\n",
            "    accuracy                           0.76     23977\n",
            "   macro avg       0.76      0.76      0.76     23977\n",
            "weighted avg       0.77      0.76      0.76     23977\n",
            "\n"
          ]
        }
      ],
      "source": [
        "model = RandomForestClassifier()\n",
        "model.fit(X_train, y_train)\n",
        "predict = model.predict(X_test)\n",
        "print(classification_report(y_test, predict))"
      ]
    },
    {
      "attachments": {},
      "cell_type": "markdown",
      "metadata": {},
      "source": [
        "<h3 id = \"tuning\"> 3. Tinh chỉnh siêu tham số </h3>"
      ]
    },
    {
      "attachments": {},
      "cell_type": "markdown",
      "metadata": {},
      "source": [
        "Các siêu tham số trong mô hình Random Forest bao gồm:\n",
        "<li> <b> Number of estimators</b>: Đây là số lượng cây quyết định được sử dụng trong mô hình. Một số lượng cây quyết định quá ít có thể dẫn đến việc mô hình không đủ tốt, trong khi một số lượng quá nhiều có thể dẫn đến việc mô hình bị quá khớp.\n",
        "<li> <b> Maximum depth </b>: Đây là độ sâu tối đa của mỗi cây quyết định. Một độ sâu cây quá lớn có thể dẫn đến việc mô hình bị quá khớp, trong khi một độ sâu quá thấp có thể dẫn đến việc mô hình không đủ tốt.\n",
        "<li> <b> Min samples leaf </b>: Đây là số lượng mẫu tối thiểu cần thiết để tạo một nút lá trong cây quyết định. Một giá trị quá thấp có thể dẫn đến việc mô hình bị quá khớp, trong khi một giá trị quá cao có thể dẫn đến việc mô hình không đủ tốt.\n",
        "\n",
        "Siêu tham số được tinh chỉnh bằng phương pháp đánh giá chéo (cross validaition) với việc tập dữ liệu được chia làm 10 phần không chồng chéo và có kích thước bằng nhau. \n",
        "Ngoài ra thước đo cho mô hình em chọn là F1 - score"
      ]
    },
    {
      "cell_type": "code",
      "execution_count": 6,
      "metadata": {},
      "outputs": [
        {
          "name": "stdout",
          "output_type": "stream",
          "text": [
            "{'max_depth': 5, 'min_samples_leaf': 3, 'n_estimators': 80}\n"
          ]
        }
      ],
      "source": [
        "from sklearn.model_selection import GridSearchCV\n",
        "\n",
        "model = RandomForestClassifier()\n",
        "param_grid = {\n",
        "    'n_estimators': [60, 80, 100],\n",
        "    'max_depth': [3, 4, 5],\n",
        "    'min_samples_leaf': [1, 2, 3],\n",
        "}\n",
        "\n",
        "grid_search = GridSearchCV(model, param_grid, cv=10, scoring= 'f1_micro')\n",
        "grid_search.fit(X_train, y_train)\n",
        "print(grid_search.best_params_)"
      ]
    },
    {
      "cell_type": "code",
      "execution_count": 4,
      "metadata": {},
      "outputs": [
        {
          "name": "stdout",
          "output_type": "stream",
          "text": [
            "              precision    recall  f1-score   support\n",
            "\n",
            "           0       0.99      0.62      0.77     13268\n",
            "           1       0.68      1.00      0.81     10709\n",
            "\n",
            "    accuracy                           0.79     23977\n",
            "   macro avg       0.84      0.81      0.79     23977\n",
            "weighted avg       0.85      0.79      0.79     23977\n",
            "\n"
          ]
        }
      ],
      "source": [
        "model = RandomForestClassifier(n_estimators=80, max_depth=5, min_samples_leaf=3)\n",
        "model.fit(X_train, y_train)\n",
        "predict = model.predict(X_test)\n",
        "print(classification_report(y_test, predict))"
      ]
    },
    {
      "cell_type": "code",
      "execution_count": 5,
      "metadata": {},
      "outputs": [],
      "source": [
        "import os\n",
        "import matplotlib.pyplot as plt\n",
        "from sklearn.tree import plot_tree\n",
        "\n",
        "if not os.path.exists('images'):\n",
        "    os.makedirs('images')\n",
        "\n",
        "for i in range(len(model.estimators_)):\n",
        "    fig = plt.figure(figsize=(25,20))\n",
        "    _ = plot_tree(model.estimators_[i], filled=True)\n",
        "    fig.savefig(f\"images/decistion_tree_{i+1}.png\")\n",
        "    plt.close()"
      ]
    }
  ],
  "metadata": {
    "colab": {
      "provenance": []
    },
    "kernelspec": {
      "display_name": "Python 3",
      "language": "python",
      "name": "python3"
    },
    "language_info": {
      "codemirror_mode": {
        "name": "ipython",
        "version": 3
      },
      "file_extension": ".py",
      "mimetype": "text/x-python",
      "name": "python",
      "nbconvert_exporter": "python",
      "pygments_lexer": "ipython3",
      "version": "3.8.10"
    },
    "vscode": {
      "interpreter": {
        "hash": "916dbcbb3f70747c44a77c7bcd40155683ae19c65e1c03b4aa3499c5328201f1"
      }
    }
  },
  "nbformat": 4,
  "nbformat_minor": 0
}
