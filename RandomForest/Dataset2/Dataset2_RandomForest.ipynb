{
  "cells": [
    {
      "cell_type": "markdown",
      "metadata": {
        "id": "Np3OYEjo-fa2"
      },
      "source": [
        "# Thực nghiệm thuật toán Random Forest trên tập dataset 2"
      ]
    },
    {
      "attachments": {},
      "cell_type": "markdown",
      "metadata": {},
      "source": [
        "<h2> Table of content </h2>\n",
        "<div class =\"alert alert-block alert-info\" style=\"margin-top: 20px\">\n",
        "  <ol>\n",
        "    <li><a href = \"#1\"> Tạo tập dữ liệu </a></li>\n",
        "    <li><a href = \"#2\"> Thử nghiệm mô hình mặc định </a></li>\n",
        "    <li><a href = \"#tuning\"> Tinh chỉnh siêu tham số  </a></li>\n",
        "  </ol>\n",
        "</div>"
      ]
    },
    {
      "attachments": {},
      "cell_type": "markdown",
      "metadata": {},
      "source": [
        "<h3 id = \"1\"> 1. Tạo tập dữ liệu </h3>"
      ]
    },
    {
      "cell_type": "code",
      "execution_count": 1,
      "metadata": {
        "id": "_Dx39ktvAHah"
      },
      "outputs": [],
      "source": [
        "import pandas as pd\n",
        "\n",
        "from sklearn.metrics import classification_report\n",
        "from sklearn.ensemble import RandomForestClassifier"
      ]
    },
    {
      "cell_type": "code",
      "execution_count": 2,
      "metadata": {
        "colab": {
          "base_uri": "https://localhost:8080/",
          "height": 288
        },
        "id": "emJQ0S2FAOsI",
        "outputId": "68c4d769-3e49-4d2a-dcd3-392d569ad3af"
      },
      "outputs": [
        {
          "data": {
            "text/html": [
              "<div>\n",
              "<style scoped>\n",
              "    .dataframe tbody tr th:only-of-type {\n",
              "        vertical-align: middle;\n",
              "    }\n",
              "\n",
              "    .dataframe tbody tr th {\n",
              "        vertical-align: top;\n",
              "    }\n",
              "\n",
              "    .dataframe thead th {\n",
              "        text-align: right;\n",
              "    }\n",
              "</style>\n",
              "<table border=\"1\" class=\"dataframe\">\n",
              "  <thead>\n",
              "    <tr style=\"text-align: right;\">\n",
              "      <th></th>\n",
              "      <th>GpsProvider</th>\n",
              "      <th>Market/Regular</th>\n",
              "      <th>vehicle_no</th>\n",
              "      <th>Origin_Location</th>\n",
              "      <th>Destination_Location</th>\n",
              "      <th>Planned_ETA</th>\n",
              "      <th>ontime</th>\n",
              "      <th>OriginLocation_Code</th>\n",
              "      <th>DestinationLocation_Code</th>\n",
              "      <th>trip_start_date</th>\n",
              "      <th>TRANSPORTATION_DISTANCE_IN_KM</th>\n",
              "      <th>vehicleType</th>\n",
              "      <th>customerID</th>\n",
              "      <th>supplierID</th>\n",
              "      <th>Material Shipped</th>\n",
              "      <th>Org_lat</th>\n",
              "      <th>Org_lon</th>\n",
              "      <th>Des_lat</th>\n",
              "      <th>Des_lon</th>\n",
              "    </tr>\n",
              "  </thead>\n",
              "  <tbody>\n",
              "    <tr>\n",
              "      <th>0</th>\n",
              "      <td>3</td>\n",
              "      <td>0</td>\n",
              "      <td>136</td>\n",
              "      <td>23</td>\n",
              "      <td>383</td>\n",
              "      <td>173</td>\n",
              "      <td>0.0</td>\n",
              "      <td>127</td>\n",
              "      <td>169</td>\n",
              "      <td>157</td>\n",
              "      <td>80.00</td>\n",
              "      <td>34</td>\n",
              "      <td>15</td>\n",
              "      <td>92</td>\n",
              "      <td>764</td>\n",
              "      <td>16.560192</td>\n",
              "      <td>80.792293</td>\n",
              "      <td>23.704770</td>\n",
              "      <td>72.539096</td>\n",
              "    </tr>\n",
              "    <tr>\n",
              "      <th>1</th>\n",
              "      <td>3</td>\n",
              "      <td>0</td>\n",
              "      <td>1467</td>\n",
              "      <td>93</td>\n",
              "      <td>135</td>\n",
              "      <td>290</td>\n",
              "      <td>0.0</td>\n",
              "      <td>111</td>\n",
              "      <td>224</td>\n",
              "      <td>263</td>\n",
              "      <td>43.00</td>\n",
              "      <td>34</td>\n",
              "      <td>15</td>\n",
              "      <td>95</td>\n",
              "      <td>692</td>\n",
              "      <td>28.722966</td>\n",
              "      <td>77.345364</td>\n",
              "      <td>28.476329</td>\n",
              "      <td>77.733763</td>\n",
              "    </tr>\n",
              "    <tr>\n",
              "      <th>2</th>\n",
              "      <td>6</td>\n",
              "      <td>0</td>\n",
              "      <td>1188</td>\n",
              "      <td>82</td>\n",
              "      <td>92</td>\n",
              "      <td>221</td>\n",
              "      <td>0.0</td>\n",
              "      <td>127</td>\n",
              "      <td>200</td>\n",
              "      <td>200</td>\n",
              "      <td>53.90</td>\n",
              "      <td>34</td>\n",
              "      <td>15</td>\n",
              "      <td>28</td>\n",
              "      <td>229</td>\n",
              "      <td>16.560192</td>\n",
              "      <td>80.792293</td>\n",
              "      <td>12.730174</td>\n",
              "      <td>77.956202</td>\n",
              "    </tr>\n",
              "    <tr>\n",
              "      <th>3</th>\n",
              "      <td>3</td>\n",
              "      <td>0</td>\n",
              "      <td>559</td>\n",
              "      <td>82</td>\n",
              "      <td>70</td>\n",
              "      <td>103</td>\n",
              "      <td>0.0</td>\n",
              "      <td>153</td>\n",
              "      <td>159</td>\n",
              "      <td>93</td>\n",
              "      <td>31.00</td>\n",
              "      <td>34</td>\n",
              "      <td>15</td>\n",
              "      <td>28</td>\n",
              "      <td>271</td>\n",
              "      <td>12.992700</td>\n",
              "      <td>77.803841</td>\n",
              "      <td>12.777875</td>\n",
              "      <td>77.642276</td>\n",
              "    </tr>\n",
              "    <tr>\n",
              "      <th>4</th>\n",
              "      <td>3</td>\n",
              "      <td>0</td>\n",
              "      <td>909</td>\n",
              "      <td>37</td>\n",
              "      <td>161</td>\n",
              "      <td>172</td>\n",
              "      <td>0.0</td>\n",
              "      <td>76</td>\n",
              "      <td>335</td>\n",
              "      <td>154</td>\n",
              "      <td>360.15</td>\n",
              "      <td>36</td>\n",
              "      <td>15</td>\n",
              "      <td>26</td>\n",
              "      <td>578</td>\n",
              "      <td>18.970774</td>\n",
              "      <td>72.808712</td>\n",
              "      <td>21.606548</td>\n",
              "      <td>73.009534</td>\n",
              "    </tr>\n",
              "  </tbody>\n",
              "</table>\n",
              "</div>"
            ],
            "text/plain": [
              "   GpsProvider  Market/Regular   vehicle_no  Origin_Location  \\\n",
              "0            3                0         136               23   \n",
              "1            3                0        1467               93   \n",
              "2            6                0        1188               82   \n",
              "3            3                0         559               82   \n",
              "4            3                0         909               37   \n",
              "\n",
              "   Destination_Location  Planned_ETA  ontime  OriginLocation_Code  \\\n",
              "0                   383          173     0.0                  127   \n",
              "1                   135          290     0.0                  111   \n",
              "2                    92          221     0.0                  127   \n",
              "3                    70          103     0.0                  153   \n",
              "4                   161          172     0.0                   76   \n",
              "\n",
              "   DestinationLocation_Code  trip_start_date  TRANSPORTATION_DISTANCE_IN_KM  \\\n",
              "0                       169              157                          80.00   \n",
              "1                       224              263                          43.00   \n",
              "2                       200              200                          53.90   \n",
              "3                       159               93                          31.00   \n",
              "4                       335              154                         360.15   \n",
              "\n",
              "   vehicleType  customerID  supplierID  Material Shipped    Org_lat  \\\n",
              "0           34          15          92               764  16.560192   \n",
              "1           34          15          95               692  28.722966   \n",
              "2           34          15          28               229  16.560192   \n",
              "3           34          15          28               271  12.992700   \n",
              "4           36          15          26               578  18.970774   \n",
              "\n",
              "     Org_lon    Des_lat    Des_lon  \n",
              "0  80.792293  23.704770  72.539096  \n",
              "1  77.345364  28.476329  77.733763  \n",
              "2  80.792293  12.730174  77.956202  \n",
              "3  77.803841  12.777875  77.642276  \n",
              "4  72.808712  21.606548  73.009534  "
            ]
          },
          "execution_count": 2,
          "metadata": {},
          "output_type": "execute_result"
        }
      ],
      "source": [
        "data_train = pd.read_csv(\"Data2_train.csv\")\n",
        "data_test = pd.read_csv(\"Data2_test.csv\")\n",
        "\n",
        "data_train = data_train.drop(data_train.columns[0], axis = 1)\n",
        "data_test = data_test.drop(data_test.columns[0], axis = 1)\n",
        "\n",
        "data_train.head()"
      ]
    },
    {
      "cell_type": "markdown",
      "metadata": {
        "id": "vXWNZa43DorW"
      },
      "source": [
        "Dữ liệu cần dự đoán ở đây là cột ontime"
      ]
    },
    {
      "cell_type": "code",
      "execution_count": 3,
      "metadata": {
        "id": "oRNftJrtBFYf"
      },
      "outputs": [],
      "source": [
        "X_train = data_train.iloc[:, data_train.columns != \"ontime\"].values\n",
        "y_train = data_train[\"ontime\"].values\n",
        "\n",
        "X_test = data_test.iloc[:, data_test.columns != \"ontime\"].values\n",
        "y_test = data_test[\"ontime\"].values"
      ]
    },
    {
      "attachments": {},
      "cell_type": "markdown",
      "metadata": {},
      "source": [
        "<h3 id = \"2\"> 2. Thử nghiệm mô hình mặc định </h3>"
      ]
    },
    {
      "cell_type": "code",
      "execution_count": 9,
      "metadata": {
        "colab": {
          "base_uri": "https://localhost:8080/",
          "height": 75
        },
        "id": "Ul_SHBePCUVI",
        "outputId": "cfd6c5ce-7dcf-44dd-9188-c5a27f772170"
      },
      "outputs": [
        {
          "name": "stdout",
          "output_type": "stream",
          "text": [
            "              precision    recall  f1-score   support\n",
            "\n",
            "         0.0       0.95      0.95      0.95       821\n",
            "         1.0       0.74      0.73      0.73       161\n",
            "\n",
            "    accuracy                           0.91       982\n",
            "   macro avg       0.84      0.84      0.84       982\n",
            "weighted avg       0.91      0.91      0.91       982\n",
            "\n"
          ]
        }
      ],
      "source": [
        "model = RandomForestClassifier()\n",
        "model.fit(X_train, y_train)\n",
        "predict = model.predict(X_test)\n",
        "print(classification_report(y_test, predict))"
      ]
    },
    {
      "attachments": {},
      "cell_type": "markdown",
      "metadata": {
        "id": "HL-LjyIkD6YU"
      },
      "source": [
        "<h3 id = \"tuning\"> 3. Tinh chỉnh siêu tham số </h3>"
      ]
    },
    {
      "attachments": {},
      "cell_type": "markdown",
      "metadata": {},
      "source": [
        "Các siêu tham số trong mô hình Random Forest bao gồm:\n",
        "<li> <b> Number of estimators</b>: Đây là số lượng cây quyết định được sử dụng trong mô hình. Một số lượng cây quyết định quá ít có thể dẫn đến việc mô hình không đủ tốt, trong khi một số lượng quá nhiều có thể dẫn đến việc mô hình bị quá khớp.\n",
        "<li> <b> Maximum depth </b>: Đây là độ sâu tối đa của mỗi cây quyết định. Một độ sâu cây quá lớn có thể dẫn đến việc mô hình bị quá khớp, trong khi một độ sâu quá thấp có thể dẫn đến việc mô hình không đủ tốt.\n",
        "<li> <b> Min samples leaf </b>: Đây là số lượng mẫu tối thiểu cần thiết để tạo một nút lá trong cây quyết định. Một giá trị quá thấp có thể dẫn đến việc mô hình bị quá khớp, trong khi một giá trị quá cao có thể dẫn đến việc mô hình không đủ tốt.\n",
        "\n",
        "Siêu tham số được tinh chỉnh bằng phương pháp đánh giá chéo (cross validaition) với việc tập dữ liệu được chia làm 10 phần không chồng chéo và có kích thước bằng nhau. \n",
        "Ngoài ra thước đo cho mô hình em chọn là F1 - score"
      ]
    },
    {
      "cell_type": "code",
      "execution_count": 12,
      "metadata": {},
      "outputs": [
        {
          "name": "stdout",
          "output_type": "stream",
          "text": [
            "{'max_depth': 5, 'min_samples_leaf': 3, 'n_estimators': 60}\n"
          ]
        }
      ],
      "source": [
        "from sklearn.model_selection import GridSearchCV\n",
        "\n",
        "model = RandomForestClassifier()\n",
        "param_grid = {\n",
        "    'n_estimators': [60, 80, 100],\n",
        "    'max_depth': [3, 4, 5],\n",
        "    'min_samples_leaf': [1, 2, 3],\n",
        "}\n",
        "\n",
        "grid_search = GridSearchCV(model, param_grid, cv=10, scoring= 'f1_micro')\n",
        "grid_search.fit(X_train, y_train)\n",
        "print(grid_search.best_params_)"
      ]
    },
    {
      "cell_type": "code",
      "execution_count": 4,
      "metadata": {},
      "outputs": [
        {
          "name": "stdout",
          "output_type": "stream",
          "text": [
            "              precision    recall  f1-score   support\n",
            "\n",
            "         0.0       0.92      0.98      0.95       821\n",
            "         1.0       0.84      0.56      0.67       161\n",
            "\n",
            "    accuracy                           0.91       982\n",
            "   macro avg       0.88      0.77      0.81       982\n",
            "weighted avg       0.91      0.91      0.90       982\n",
            "\n"
          ]
        }
      ],
      "source": [
        "model = RandomForestClassifier(n_estimators=60, max_depth=5, min_samples_leaf=3)\n",
        "model.fit(X_train, y_train)\n",
        "predict = model.predict(X_test)\n",
        "print(classification_report(y_test, predict))"
      ]
    },
    {
      "cell_type": "code",
      "execution_count": null,
      "metadata": {},
      "outputs": [],
      "source": [
        "import os\n",
        "import matplotlib.pyplot as plt\n",
        "from sklearn.tree import plot_tree\n",
        "\n",
        "if not os.path.exists('images'):\n",
        "    os.makedirs('images')\n",
        "\n",
        "for i in range(len(model.estimators_)):\n",
        "    fig = plt.figure(figsize=(25,20))\n",
        "    _ = plot_tree(model.estimators_[i], filled=True)\n",
        "    fig.savefig(f\"images/decistion_tree_{i+1}.png\")\n",
        "    plt.close()"
      ]
    }
  ],
  "metadata": {
    "colab": {
      "provenance": []
    },
    "kernelspec": {
      "display_name": "Python 3",
      "language": "python",
      "name": "python3"
    },
    "language_info": {
      "codemirror_mode": {
        "name": "ipython",
        "version": 3
      },
      "file_extension": ".py",
      "mimetype": "text/x-python",
      "name": "python",
      "nbconvert_exporter": "python",
      "pygments_lexer": "ipython3",
      "version": "3.8.10"
    },
    "vscode": {
      "interpreter": {
        "hash": "916dbcbb3f70747c44a77c7bcd40155683ae19c65e1c03b4aa3499c5328201f1"
      }
    }
  },
  "nbformat": 4,
  "nbformat_minor": 0
}
