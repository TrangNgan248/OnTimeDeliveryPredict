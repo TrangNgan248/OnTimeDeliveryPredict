{
  "cells": [
    {
      "cell_type": "markdown",
      "metadata": {
        "id": "Np3OYEjo-fa2"
      },
      "source": [
        "# Thực nghiệm thuật toán Gradient Boost trên tập dataset 1"
      ]
    },
    {
      "attachments": {},
      "cell_type": "markdown",
      "metadata": {},
      "source": [
        "<h2> Table of content </h2>\n",
        "<div class =\"alert alert-block alert-info\" style=\"margin-top: 20px\">\n",
        "  <ol>\n",
        "    <li><a href = \"#1\"> Tạo tập dữ liệu </a></li>\n",
        "    <li><a href = \"#2\"> Thử nghiệm mô hình mặc định </a></li>\n",
        "    <li><a href = \"#tuning\"> Tinh chỉnh siêu tham số  </a></li>\n",
        "  </ol>\n",
        "</div>"
      ]
    },
    {
      "attachments": {},
      "cell_type": "markdown",
      "metadata": {},
      "source": [
        "<h3 id = \"1\"> 1. Tạo tập dữ liệu </h3>"
      ]
    },
    {
      "cell_type": "code",
      "execution_count": 1,
      "metadata": {
        "id": "_Dx39ktvAHah"
      },
      "outputs": [],
      "source": [
        "import pandas as pd\n",
        "\n",
        "from sklearn.metrics import classification_report\n",
        "from sklearn.ensemble import GradientBoostingClassifier"
      ]
    },
    {
      "cell_type": "code",
      "execution_count": 2,
      "metadata": {
        "colab": {
          "base_uri": "https://localhost:8080/",
          "height": 206
        },
        "id": "emJQ0S2FAOsI",
        "outputId": "8319e00c-b120-47e1-af10-fe73ae60d744"
      },
      "outputs": [
        {
          "data": {
            "text/html": [
              "<div>\n",
              "<style scoped>\n",
              "    .dataframe tbody tr th:only-of-type {\n",
              "        vertical-align: middle;\n",
              "    }\n",
              "\n",
              "    .dataframe tbody tr th {\n",
              "        vertical-align: top;\n",
              "    }\n",
              "\n",
              "    .dataframe thead th {\n",
              "        text-align: right;\n",
              "    }\n",
              "</style>\n",
              "<table border=\"1\" class=\"dataframe\">\n",
              "  <thead>\n",
              "    <tr style=\"text-align: right;\">\n",
              "      <th></th>\n",
              "      <th>Warehouse_block</th>\n",
              "      <th>Mode_of_Shipment</th>\n",
              "      <th>Customer_care_calls</th>\n",
              "      <th>Customer_rating</th>\n",
              "      <th>Cost_of_the_Product</th>\n",
              "      <th>Prior_purchases</th>\n",
              "      <th>Product_importance</th>\n",
              "      <th>Gender</th>\n",
              "      <th>Discount_offered</th>\n",
              "      <th>Weight_in_gms</th>\n",
              "      <th>Reached.on.Time_Y.N</th>\n",
              "    </tr>\n",
              "  </thead>\n",
              "  <tbody>\n",
              "    <tr>\n",
              "      <th>0</th>\n",
              "      <td>4</td>\n",
              "      <td>2</td>\n",
              "      <td>3</td>\n",
              "      <td>5</td>\n",
              "      <td>178</td>\n",
              "      <td>3</td>\n",
              "      <td>1</td>\n",
              "      <td>0</td>\n",
              "      <td>7</td>\n",
              "      <td>4135</td>\n",
              "      <td>0</td>\n",
              "    </tr>\n",
              "    <tr>\n",
              "      <th>1</th>\n",
              "      <td>0</td>\n",
              "      <td>2</td>\n",
              "      <td>6</td>\n",
              "      <td>3</td>\n",
              "      <td>202</td>\n",
              "      <td>4</td>\n",
              "      <td>2</td>\n",
              "      <td>0</td>\n",
              "      <td>3</td>\n",
              "      <td>4496</td>\n",
              "      <td>1</td>\n",
              "    </tr>\n",
              "    <tr>\n",
              "      <th>2</th>\n",
              "      <td>3</td>\n",
              "      <td>2</td>\n",
              "      <td>2</td>\n",
              "      <td>5</td>\n",
              "      <td>277</td>\n",
              "      <td>3</td>\n",
              "      <td>2</td>\n",
              "      <td>1</td>\n",
              "      <td>6</td>\n",
              "      <td>1032</td>\n",
              "      <td>0</td>\n",
              "    </tr>\n",
              "    <tr>\n",
              "      <th>3</th>\n",
              "      <td>2</td>\n",
              "      <td>2</td>\n",
              "      <td>5</td>\n",
              "      <td>5</td>\n",
              "      <td>219</td>\n",
              "      <td>2</td>\n",
              "      <td>2</td>\n",
              "      <td>1</td>\n",
              "      <td>4</td>\n",
              "      <td>4289</td>\n",
              "      <td>0</td>\n",
              "    </tr>\n",
              "    <tr>\n",
              "      <th>4</th>\n",
              "      <td>2</td>\n",
              "      <td>0</td>\n",
              "      <td>6</td>\n",
              "      <td>3</td>\n",
              "      <td>296</td>\n",
              "      <td>4</td>\n",
              "      <td>1</td>\n",
              "      <td>0</td>\n",
              "      <td>4</td>\n",
              "      <td>1650</td>\n",
              "      <td>0</td>\n",
              "    </tr>\n",
              "  </tbody>\n",
              "</table>\n",
              "</div>"
            ],
            "text/plain": [
              "   Warehouse_block  Mode_of_Shipment  Customer_care_calls  Customer_rating  \\\n",
              "0                4                 2                    3                5   \n",
              "1                0                 2                    6                3   \n",
              "2                3                 2                    2                5   \n",
              "3                2                 2                    5                5   \n",
              "4                2                 0                    6                3   \n",
              "\n",
              "   Cost_of_the_Product  Prior_purchases  Product_importance  Gender  \\\n",
              "0                  178                3                   1       0   \n",
              "1                  202                4                   2       0   \n",
              "2                  277                3                   2       1   \n",
              "3                  219                2                   2       1   \n",
              "4                  296                4                   1       0   \n",
              "\n",
              "   Discount_offered  Weight_in_gms  Reached.on.Time_Y.N  \n",
              "0                 7           4135                    0  \n",
              "1                 3           4496                    1  \n",
              "2                 6           1032                    0  \n",
              "3                 4           4289                    0  \n",
              "4                 4           1650                    0  "
            ]
          },
          "execution_count": 2,
          "metadata": {},
          "output_type": "execute_result"
        }
      ],
      "source": [
        "data_train = pd.read_csv(\"Data1_train.csv\")\n",
        "data_test = pd.read_csv(\"Data1_test.csv\")\n",
        "drop_columns = data_train.columns[:2]  #drop column \"Unnamed\", \"ID\"\n",
        "\n",
        "data_train.drop(axis = 1, columns = drop_columns, inplace=True)\n",
        "data_test.drop(axis = 1, columns = drop_columns, inplace=True)\n",
        "\n",
        "data_train.head()"
      ]
    },
    {
      "cell_type": "markdown",
      "metadata": {
        "id": "vXWNZa43DorW"
      },
      "source": [
        "Dữ liệu cần dự đoán ở đây là cột Reach.on.Time_Y.N"
      ]
    },
    {
      "cell_type": "code",
      "execution_count": 3,
      "metadata": {
        "id": "oRNftJrtBFYf"
      },
      "outputs": [],
      "source": [
        "X_train = data_train.iloc[:, data_train.columns != \"Reached.on.Time_Y.N\"].values\n",
        "y_train = data_train[\"Reached.on.Time_Y.N\"].values\n",
        "\n",
        "X_test = data_test.iloc[:, data_test.columns != \"Reached.on.Time_Y.N\"].values\n",
        "y_test = data_test[\"Reached.on.Time_Y.N\"].values"
      ]
    },
    {
      "attachments": {},
      "cell_type": "markdown",
      "metadata": {},
      "source": [
        "<h3 id = \"2\"> 2. Thử nghiệm mô hình mặc định </h3>"
      ]
    },
    {
      "cell_type": "code",
      "execution_count": 4,
      "metadata": {
        "colab": {
          "base_uri": "https://localhost:8080/",
          "height": 75
        },
        "id": "Ul_SHBePCUVI",
        "outputId": "9612bf91-d70a-4228-8252-9ddd8e74ab23"
      },
      "outputs": [
        {
          "name": "stdout",
          "output_type": "stream",
          "text": [
            "              precision    recall  f1-score   support\n",
            "\n",
            "           0       0.58      0.87      0.69       895\n",
            "           1       0.86      0.56      0.68      1305\n",
            "\n",
            "    accuracy                           0.69      2200\n",
            "   macro avg       0.72      0.72      0.69      2200\n",
            "weighted avg       0.75      0.69      0.68      2200\n",
            "\n"
          ]
        }
      ],
      "source": [
        "model = GradientBoostingClassifier()\n",
        "model.fit(X_train, y_train)\n",
        "predict = model.predict(X_test)\n",
        "print(classification_report(y_test, predict))"
      ]
    },
    {
      "attachments": {},
      "cell_type": "markdown",
      "metadata": {
        "id": "HL-LjyIkD6YU"
      },
      "source": [
        "<h3 id = \"tuning\"> 3. Tinh chỉnh siêu tham số </h3>"
      ]
    },
    {
      "attachments": {},
      "cell_type": "markdown",
      "metadata": {},
      "source": [
        "\n",
        "Các siêu tham số trong mô hình Gradient Boost bao gồm:\n",
        "\n",
        "<li> <b> Learning rate </b>: Đây là một tham số điều chỉnh kích thước của bước cập nhật trong quá trình học tập. Một giá trị learning rate quá cao có thể dẫn đến việc mô hình bị quá khớp, trong khi một giá trị quá thấp có thể dẫn đến việc mô hình bị thiếu khớp.\n",
        "<li> <b> Number of estimators </b>: Đây là số lượng cây quyết định được sử dụng trong mô hình. Một số lượng cây quyết định quá ít có thể dẫn đến việc mô hình không đủ tốt, trong khi một số lượng quá nhiều có thể dẫn đến việc mô hình bị quá khớp.\n",
        "<li> <b> Maximum depth </b>: Đây là độ sâu tối đa của mỗi cây quyết định. Một độ sâu cây quá lớn có thể dẫn đến việc mô hình bị quá khớp, trong khi một độ sâu quá thấp có thể dẫn đến việc mô hình không đủ tốt.\n",
        "<li> <b> Min samples split </b>: Đây là số lượng mẫu tối thiểu cần thiết để phân chia một nút trong cây quyết định. Một giá trị quá thấp có thể dẫn đến việc mô hình bị thiếu khớp, trong khi một giá trị quá cao có thể dẫn đến việc mô hình không đủ tốt\n",
        "\n",
        "Siêu tham số được tinh chỉnh bằng phương pháp đánh giá chéo (cross validaition) với việc tập dữ liệu được chia làm 10 phần không chồng chéo và có kích thước bằng nhau. \n",
        "Ngoài ra thước đo cho mô hình em chọn là F1 - score"
      ]
    },
    {
      "cell_type": "code",
      "execution_count": 5,
      "metadata": {},
      "outputs": [
        {
          "name": "stdout",
          "output_type": "stream",
          "text": [
            "{'learning_rate': 0.1, 'max_depth': 3, 'min_samples_split': 2, 'n_estimators': 60}\n"
          ]
        }
      ],
      "source": [
        "from sklearn.model_selection import GridSearchCV\n",
        "\n",
        "model = GradientBoostingClassifier()\n",
        "param_grid = {\n",
        "    'learning_rate': [0.01, 0.1],\n",
        "    'n_estimators': [60, 80, 100],\n",
        "    'max_depth': [3, 4, 5],\n",
        "    'min_samples_split': [2, 3, 4],\n",
        "}\n",
        "grid_search = GridSearchCV(model, param_grid, cv=10, scoring= 'f1_micro')\n",
        "grid_search.fit(X_train, y_train)\n",
        "print(grid_search.best_params_)"
      ]
    },
    {
      "cell_type": "code",
      "execution_count": 6,
      "metadata": {},
      "outputs": [
        {
          "name": "stdout",
          "output_type": "stream",
          "text": [
            "              precision    recall  f1-score   support\n",
            "\n",
            "           0       0.58      0.92      0.71       895\n",
            "           1       0.91      0.54      0.67      1305\n",
            "\n",
            "    accuracy                           0.69      2200\n",
            "   macro avg       0.74      0.73      0.69      2200\n",
            "weighted avg       0.77      0.69      0.69      2200\n",
            "\n"
          ]
        }
      ],
      "source": [
        "model = GradientBoostingClassifier(learning_rate= 0.1, max_depth= 3, min_samples_split=2, n_estimators= 60)\n",
        "model.fit(X_train, y_train)\n",
        "predict = model.predict(X_test)\n",
        "print(classification_report(y_test, predict))"
      ]
    },
    {
      "cell_type": "code",
      "execution_count": null,
      "metadata": {},
      "outputs": [],
      "source": [
        "import os\n",
        "import matplotlib.pyplot as plt\n",
        "from sklearn.tree import plot_tree\n",
        "\n",
        "if not os.path.exists('images'):\n",
        "    os.makedirs('images')\n",
        "\n",
        "for i in range(len(model.estimators_)):\n",
        "    fig = plt.figure(figsize=(25,20))\n",
        "    _ = plot_tree(model.estimators_[i][0], filled=True)\n",
        "    fig.savefig(f\"images/decistion_tree_{i+1}.png\")\n",
        "    plt.close()"
      ]
    }
  ],
  "metadata": {
    "colab": {
      "provenance": []
    },
    "kernelspec": {
      "display_name": "Python 3.9.6 64-bit",
      "language": "python",
      "name": "python3"
    },
    "language_info": {
      "codemirror_mode": {
        "name": "ipython",
        "version": 3
      },
      "file_extension": ".py",
      "mimetype": "text/x-python",
      "name": "python",
      "nbconvert_exporter": "python",
      "pygments_lexer": "ipython3",
      "version": "3.9.6"
    },
    "vscode": {
      "interpreter": {
        "hash": "31f2aee4e71d21fbe5cf8b01ff0e069b9275f58929596ceb00d14d90e3e16cd6"
      }
    }
  },
  "nbformat": 4,
  "nbformat_minor": 0
}
